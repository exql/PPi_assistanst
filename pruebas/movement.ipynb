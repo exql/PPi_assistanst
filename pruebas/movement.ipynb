{
 "cells": [
  {
   "cell_type": "code",
   "execution_count": 1,
   "metadata": {},
   "outputs": [
    {
     "name": "stdout",
     "output_type": "stream",
     "text": [
      "********* Login exitoso *********\n"
     ]
    }
   ],
   "source": [
    "import requests\n",
    "import json\n",
    "import urllib3\n",
    "from dateutil import parser\n",
    "from datetime import  datetime\n",
    "import sys\n",
    "sys.path.append('C:/Users/Fabian/Documents/PPi_assistanst/SRC')\n",
    "sys.path.append('C:/Users/Fabian/Documents/PPi_assistanst')\n",
    "from SRC.config import restCredencial as RC\n",
    "from SRC.conector import restConector\n",
    "from SRC.token_manager import tokenManager\n",
    "from SRC.account import accounts\n",
    "\n",
    "rest_conector= restConector()\n",
    "jsonFilePath= r'../data.json'\n",
    "login= rest_conector.conector(jsonFilePath, RC.LOGIN_REST_URL, RC.AUTHORIZED_CLIENT, RC.CLIENT_KEY, RC.API_KEY, RC.API_SECRET)\n"
   ]
  },
  {
   "cell_type": "code",
   "execution_count": 29,
   "metadata": {},
   "outputs": [],
   "source": [
    "class accounters:\n",
    "    def accountMovement(self, url, authorizedClient, clientKey, bearerTokentoken,accountNumber, dateFrom, dateTo, ticker):\n",
    "\n",
    "        self.url=url\n",
    "        self.authorizedClient= authorizedClient\n",
    "        self.clientKey= clientKey\n",
    "        self.bearerTokentoken= bearerTokentoken\n",
    "        self.dateFrom= dateFrom\n",
    "        self.dateTo= dateTo\n",
    "        self.ticker=ticker\n",
    "        self.accountNumber= accountNumber\n",
    "    \n",
    "        urlFinal= self.url + f\"Account/Movements?accountNumber={self.accountNumber}&dateFrom={self.dateFrom}&dateTo={self.dateTo}&ticker={self.ticker}\"\n",
    "    \n",
    "        payload = {}\n",
    "        headers = {\n",
    "        'AuthorizedClient': self.authorizedClient,\n",
    "        'ClientKey': self.clientKey,\n",
    "        'Content-Type': 'application/json',\n",
    "        'Authorization': self.bearerTokentoken\n",
    "        }\n",
    "\n",
    "        response = requests.request(\"GET\", urlFinal, headers=headers, data=payload, verify=False)\n",
    "        if response.ok:\n",
    "            response_dic= json.loads(response.text)\n",
    "            return response_dic\n",
    "        \n",
    "        "
   ]
  },
  {
   "cell_type": "code",
   "execution_count": 7,
   "metadata": {},
   "outputs": [
    {
     "name": "stdout",
     "output_type": "stream",
     "text": [
      "150100\n"
     ]
    }
   ],
   "source": [
    "importador= tokenManager()   \n",
    "credenciales= importador.importer(r'../data.json')\n",
    "bearerToken= credenciales[3]\n",
    "\n",
    "accountData= accounts()\n",
    "\n",
    "accountNumber= accountData.accountNum(RC.BASE_URL, RC.AUTHORIZED_CLIENT, RC.CLIENT_KEY, bearerToken)\n",
    "print(accountNumber)\n",
    "\n",
    "\n"
   ]
  },
  {
   "cell_type": "code",
   "execution_count": 30,
   "metadata": {},
   "outputs": [],
   "source": [
    "dateFrom= \"2020-01-01\"\n",
    "dateTo= \"2022-06-30\"\n",
    "ticker= \"GGAL\"\n",
    "baseUrl= 'https://clientapi_sandbox.portfoliopersonal.com/api/1.0/'\n",
    "\n",
    "cuenta=accounters()\n",
    "movimiento=cuenta.accountMovement(RC.BASE_URL, RC.AUTHORIZED_CLIENT, RC.CLIENT_KEY, bearerToken,accountNumber, dateFrom, dateTo, ticker)"
   ]
  },
  {
   "cell_type": "code",
   "execution_count": null,
   "metadata": {},
   "outputs": [],
   "source": [
    "\n",
    "operationData= movimiento[0]\n",
    "fechaAcuerdro= operationData['agreementDate']\n",
    "fechaLiquidacion= operationData['settlementDate']\n",
    "moneda= operationData['currency']\n",
    "costoNetoOeracion= operationData['amount']\n",
    "precioActivo= ['price']\n",
    "tipoOperacion= ['description']\n",
    "ticker=['ticker']\n",
    "cantida=['quantity']\n",
    "balance=['balance']\n",
    "\n",
    "print(operationData)\n",
    "print(costoNetoOeracion)\n",
    "   \n",
    "    #print(fechaLiquidacion)"
   ]
  },
  {
   "cell_type": "code",
   "execution_count": null,
   "metadata": {},
   "outputs": [],
   "source": [
    "for i in movimiento:\n",
    "    \n",
    "    fechaAcuerdro= i['agreementDate']\n",
    "    fechaLiquidacion= i['settlementDate']\n",
    "    moneda= i['currency']\n",
    "    importe= i['amount']\n",
    "    precioActivo= i['price']\n",
    "    tipoOperacion= i['description']\n",
    "    ticker= i['ticker']\n",
    "    cantidad= i['quantity']\n",
    "    balance= i['balance']  \n",
    "\n",
    "    print(f'Movimiento {tipoOperacion}')\n",
    "    texto= f\"fecha: {fechaLiquidacion} Descripción: {tipoOperacion} Cantidad: {cantidad} Precio:{precioActivo} Importe:{importe} Saldo:{balance}\"\n",
    "    print(texto)\n",
    "    print('-'*10)"
   ]
  }
 ],
 "metadata": {
  "kernelspec": {
   "display_name": "Python 3",
   "language": "python",
   "name": "python3"
  },
  "language_info": {
   "codemirror_mode": {
    "name": "ipython",
    "version": 3
   },
   "file_extension": ".py",
   "mimetype": "text/x-python",
   "name": "python",
   "nbconvert_exporter": "python",
   "pygments_lexer": "ipython3",
   "version": "3.12.1"
  }
 },
 "nbformat": 4,
 "nbformat_minor": 2
}
